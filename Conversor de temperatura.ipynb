{
 "cells": [
  {
   "cell_type": "code",
   "execution_count": 17,
   "id": "0cc3298c",
   "metadata": {},
   "outputs": [
    {
     "name": "stdout",
     "output_type": "stream",
     "text": [
      "Requirement already satisfied: requests in c:\\users\\aluno\\anaconda3\\lib\\site-packages (2.28.1)\n",
      "Requirement already satisfied: zeep in c:\\users\\aluno\\anaconda3\\lib\\site-packages (4.2.1)\n",
      "Requirement already satisfied: urllib3<1.27,>=1.21.1 in c:\\users\\aluno\\anaconda3\\lib\\site-packages (from requests) (1.26.14)\n",
      "Requirement already satisfied: charset-normalizer<3,>=2 in c:\\users\\aluno\\anaconda3\\lib\\site-packages (from requests) (2.0.4)\n",
      "Requirement already satisfied: idna<4,>=2.5 in c:\\users\\aluno\\anaconda3\\lib\\site-packages (from requests) (3.4)\n",
      "Requirement already satisfied: certifi>=2017.4.17 in c:\\users\\aluno\\anaconda3\\lib\\site-packages (from requests) (2022.12.7)\n",
      "Requirement already satisfied: requests-file>=1.5.1 in c:\\users\\aluno\\anaconda3\\lib\\site-packages (from zeep) (1.5.1)\n",
      "Requirement already satisfied: platformdirs>=1.4.0 in c:\\users\\aluno\\appdata\\roaming\\python\\python310\\site-packages (from zeep) (3.5.1)\n",
      "Requirement already satisfied: pytz in c:\\users\\aluno\\anaconda3\\lib\\site-packages (from zeep) (2022.7)\n",
      "Requirement already satisfied: lxml>=4.6.0 in c:\\users\\aluno\\anaconda3\\lib\\site-packages (from zeep) (4.9.1)\n",
      "Requirement already satisfied: attrs>=17.2.0 in c:\\users\\aluno\\anaconda3\\lib\\site-packages (from zeep) (22.1.0)\n",
      "Requirement already satisfied: requests-toolbelt>=0.7.1 in c:\\users\\aluno\\anaconda3\\lib\\site-packages (from zeep) (0.9.1)\n",
      "Requirement already satisfied: isodate>=0.5.4 in c:\\users\\aluno\\anaconda3\\lib\\site-packages (from zeep) (0.6.1)\n",
      "Requirement already satisfied: six in c:\\users\\aluno\\appdata\\roaming\\python\\python310\\site-packages (from isodate>=0.5.4->zeep) (1.16.0)\n",
      "Note: you may need to restart the kernel to use updated packages.\n"
     ]
    }
   ],
   "source": [
    "pip install requests zeep"
   ]
  },
  {
   "cell_type": "code",
   "execution_count": 18,
   "id": "6e92224b",
   "metadata": {},
   "outputs": [
    {
     "name": "stdout",
     "output_type": "stream",
     "text": [
      "Requirement already satisfied: requests in c:\\users\\aluno\\anaconda3\\lib\\site-packages (2.28.1)\n",
      "Requirement already satisfied: idna<4,>=2.5 in c:\\users\\aluno\\anaconda3\\lib\\site-packages (from requests) (3.4)\n",
      "Requirement already satisfied: urllib3<1.27,>=1.21.1 in c:\\users\\aluno\\anaconda3\\lib\\site-packages (from requests) (1.26.14)\n",
      "Requirement already satisfied: charset-normalizer<3,>=2 in c:\\users\\aluno\\anaconda3\\lib\\site-packages (from requests) (2.0.4)\n",
      "Requirement already satisfied: certifi>=2017.4.17 in c:\\users\\aluno\\anaconda3\\lib\\site-packages (from requests) (2022.12.7)\n",
      "Note: you may need to restart the kernel to use updated packages.\n"
     ]
    }
   ],
   "source": [
    "pip install requests"
   ]
  },
  {
   "cell_type": "code",
   "execution_count": 20,
   "id": "78557fe2",
   "metadata": {},
   "outputs": [
    {
     "name": "stdout",
     "output_type": "stream",
     "text": [
      "Digite a temperatura em Celsius: 33\n",
      "33.0 Celsius = 91.4 Fahrenheit\n"
     ]
    }
   ],
   "source": [
    "import requests\n",
    "import xml.etree.ElementTree as ET\n",
    "\n",
    "# URL do serviço\n",
    "url = 'https://www.w3schools.com/xml/tempconvert.asmx'\n",
    "\n",
    "# Temperatura em Celsius informada pelo usuário\n",
    "temperature_celsius = float(input(\"Digite a temperatura em Celsius: \"))\n",
    "\n",
    "# Construção do corpo da requisição SOAP\n",
    "headers = {'Content-Type': 'text/xml'}\n",
    "body = f'''\n",
    "    <soap:Envelope xmlns:soap=\"http://schemas.xmlsoap.org/soap/envelope/\" xmlns:tem=\"https://www.w3schools.com/xml/\">\n",
    "        <soap:Body>\n",
    "            <tem:CelsiusToFahrenheit>\n",
    "                <tem:Celsius>{temperature_celsius}</tem:Celsius>\n",
    "            </tem:CelsiusToFahrenheit>\n",
    "        </soap:Body>\n",
    "    </soap:Envelope>\n",
    "'''\n",
    "\n",
    "# Envio da requisição SOAP\n",
    "response = requests.post(url, data=body, headers=headers)\n",
    "\n",
    "# Parsing da resposta SOAP\n",
    "xml_response = ET.fromstring(response.content)\n",
    "namespaces = {\n",
    "    'soap': 'http://schemas.xmlsoap.org/soap/envelope/',\n",
    "    'tem': 'https://www.w3schools.com/xml/'\n",
    "}\n",
    "temperature_fahrenheit = xml_response.find('.//tem:CelsiusToFahrenheitResult', namespaces=namespaces).text\n",
    "\n",
    "# Exibição do resultado da conversão\n",
    "print(f'{temperature_celsius} Celsius = {temperature_fahrenheit} Fahrenheit')"
   ]
  },
  {
   "cell_type": "code",
   "execution_count": null,
   "id": "2df4dce1",
   "metadata": {},
   "outputs": [],
   "source": []
  }
 ],
 "metadata": {
  "kernelspec": {
   "display_name": "Python 3 (ipykernel)",
   "language": "python",
   "name": "python3"
  },
  "language_info": {
   "codemirror_mode": {
    "name": "ipython",
    "version": 3
   },
   "file_extension": ".py",
   "mimetype": "text/x-python",
   "name": "python",
   "nbconvert_exporter": "python",
   "pygments_lexer": "ipython3",
   "version": "3.10.9"
  }
 },
 "nbformat": 4,
 "nbformat_minor": 5
}
